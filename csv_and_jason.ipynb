{
 "metadata": {
  "name": ""
 },
 "nbformat": 3,
 "nbformat_minor": 0,
 "worksheets": [
  {
   "cells": [
    {
     "cell_type": "code",
     "collapsed": false,
     "input": [
      "import pandas as pd\n",
      "with open(\"iris.csv\") as csvfile:\n",
      "    iris = pd.read_csv(csvfile)\n",
      "    \n",
      "#iris"
     ],
     "language": "python",
     "metadata": {},
     "outputs": [],
     "prompt_number": 11
    },
    {
     "cell_type": "code",
     "collapsed": false,
     "input": [
      "import csv\n",
      "with open(\"iris.csv\") as csvfile:\n",
      "    iris = csv.reader(csvfile)\n",
      "    rows = list(iris)\n",
      "    for row in rows[:2]:\n",
      "        print (\",\".join(row))"
     ],
     "language": "python",
     "metadata": {},
     "outputs": [
      {
       "output_type": "stream",
       "stream": "stdout",
       "text": [
        ",Sepal.Length,Sepal.Width,Petal.Length,Petal.Width,Species\n",
        "1,5.1,3.5,1.4,0.2,setosa\n"
       ]
      }
     ],
     "prompt_number": 13
    },
    {
     "cell_type": "code",
     "collapsed": false,
     "input": [
      "with open(\"iris.csv\") as csvfile:\n",
      "    iris = csv.DictReader(csvfile)  # the first row is used as key\n",
      "    rows = list(iris)\n",
      "    for row in rows[1:3]:\n",
      "        print (row[\"Species\"])"
     ],
     "language": "python",
     "metadata": {},
     "outputs": [
      {
       "output_type": "stream",
       "stream": "stdout",
       "text": [
        "setosa\n",
        "setosa\n"
       ]
      }
     ],
     "prompt_number": 14
    },
    {
     "cell_type": "code",
     "collapsed": false,
     "input": [
      "#write to csv\n",
      "with open(\"teacher.csv\", \"a\") as csvfile:\n",
      "    fieldnames = ['first_name', 'last_name', 'topic']\n",
      "    teacherWriter = csv.DictWriter(csvfile, fieldnames =fieldnames)\n",
      "    teacherWriter.writeheader()\n",
      "    teacherWriter.writerow({\"first_name\":\"Chan\",\"last_name\":\"chang\",\"topic\":\"python\"})\n",
      "    \n",
      "\n",
      "    \n",
      "    \n",
      "pd.read_csv(\"teacher.csv\")"
     ],
     "language": "python",
     "metadata": {},
     "outputs": [
      {
       "html": [
        "<div style=\"max-width:1500px;overflow:auto;\">\n",
        "<table border=\"1\" class=\"dataframe\">\n",
        "  <thead>\n",
        "    <tr style=\"text-align: right;\">\n",
        "      <th></th>\n",
        "      <th>first_name</th>\n",
        "      <th>last_name</th>\n",
        "      <th>topic</th>\n",
        "    </tr>\n",
        "  </thead>\n",
        "  <tbody>\n",
        "    <tr>\n",
        "      <th>0</th>\n",
        "      <td>first_name</td>\n",
        "      <td>last_name</td>\n",
        "      <td>topic</td>\n",
        "    </tr>\n",
        "    <tr>\n",
        "      <th>1</th>\n",
        "      <td>Chan</td>\n",
        "      <td>chang</td>\n",
        "      <td>python</td>\n",
        "    </tr>\n",
        "    <tr>\n",
        "      <th>2</th>\n",
        "      <td>first_name</td>\n",
        "      <td>last_name</td>\n",
        "      <td>topic</td>\n",
        "    </tr>\n",
        "    <tr>\n",
        "      <th>3</th>\n",
        "      <td>Chan</td>\n",
        "      <td>chang</td>\n",
        "      <td>python</td>\n",
        "    </tr>\n",
        "    <tr>\n",
        "      <th>4</th>\n",
        "      <td>first_name</td>\n",
        "      <td>last_name</td>\n",
        "      <td>topic</td>\n",
        "    </tr>\n",
        "    <tr>\n",
        "      <th>5</th>\n",
        "      <td>Chan</td>\n",
        "      <td>chang</td>\n",
        "      <td>python</td>\n",
        "    </tr>\n",
        "    <tr>\n",
        "      <th>6</th>\n",
        "      <td>first_name</td>\n",
        "      <td>last_name</td>\n",
        "      <td>topic</td>\n",
        "    </tr>\n",
        "    <tr>\n",
        "      <th>7</th>\n",
        "      <td>Chan</td>\n",
        "      <td>chang</td>\n",
        "      <td>python</td>\n",
        "    </tr>\n",
        "    <tr>\n",
        "      <th>8</th>\n",
        "      <td>first_name</td>\n",
        "      <td>last_name</td>\n",
        "      <td>topic</td>\n",
        "    </tr>\n",
        "    <tr>\n",
        "      <th>9</th>\n",
        "      <td>Chan</td>\n",
        "      <td>chang</td>\n",
        "      <td>python</td>\n",
        "    </tr>\n",
        "    <tr>\n",
        "      <th>10</th>\n",
        "      <td>first_name</td>\n",
        "      <td>last_name</td>\n",
        "      <td>topic</td>\n",
        "    </tr>\n",
        "    <tr>\n",
        "      <th>11</th>\n",
        "      <td>first_name</td>\n",
        "      <td>last_name</td>\n",
        "      <td>topic</td>\n",
        "    </tr>\n",
        "    <tr>\n",
        "      <th>12</th>\n",
        "      <td>first_name</td>\n",
        "      <td>last_name</td>\n",
        "      <td>topic</td>\n",
        "    </tr>\n",
        "    <tr>\n",
        "      <th>13</th>\n",
        "      <td>Chan</td>\n",
        "      <td>chang</td>\n",
        "      <td>python</td>\n",
        "    </tr>\n",
        "  </tbody>\n",
        "</table>\n",
        "</div>"
       ],
       "metadata": {},
       "output_type": "pyout",
       "prompt_number": 26,
       "text": [
        "    first_name  last_name  topic\n",
        "0   first_name  last_name  topic\n",
        "1         Chan      chang  python\n",
        "2   first_name  last_name  topic\n",
        "3         Chan      chang  python\n",
        "4   first_name  last_name  topic\n",
        "5         Chan      chang  python\n",
        "6   first_name  last_name  topic\n",
        "7         Chan      chang  python\n",
        "8   first_name  last_name  topic\n",
        "9         Chan      chang  python\n",
        "10  first_name  last_name  topic\n",
        "11  first_name  last_name  topic\n",
        "12  first_name  last_name  topic\n",
        "13        Chan      chang  python"
       ]
      }
     ],
     "prompt_number": 26
    },
    {
     "cell_type": "code",
     "collapsed": false,
     "input": [
      "#json java script notation\n",
      "\n",
      "import json\n",
      "with open(\"data.json\" ) as jsonfile:\n",
      "    data = json.load(jsonfile) \n",
      "    print data['a']"
     ],
     "language": "python",
     "metadata": {},
     "outputs": [
      {
       "output_type": "stream",
       "stream": "stdout",
       "text": [
        "123\n"
       ]
      }
     ],
     "prompt_number": 27
    },
    {
     "cell_type": "code",
     "collapsed": false,
     "input": [
      "nums =json.loads(\"[1,2,4]\")  # made a list\n",
      "nums\n",
      "nums[1]"
     ],
     "language": "python",
     "metadata": {},
     "outputs": [
      {
       "metadata": {},
       "output_type": "pyout",
       "prompt_number": 30,
       "text": [
        "2"
       ]
      }
     ],
     "prompt_number": 30
    },
    {
     "cell_type": "code",
     "collapsed": false,
     "input": [
      "json.dumps([1,2,3,4,5])  # got a string"
     ],
     "language": "python",
     "metadata": {},
     "outputs": [
      {
       "metadata": {},
       "output_type": "pyout",
       "prompt_number": 32,
       "text": [
        "'[1, 2, 3, 4, 5]'"
       ]
      }
     ],
     "prompt_number": 32
    },
    {
     "cell_type": "code",
     "collapsed": false,
     "input": [
      "teacher1={\"first\":\"kim\",\"last\":\"chin\",\"topic\":\"immu\"}\n",
      "teacher2 ={\"first\":\"Liu\",\"last\":\"chingg\",\"topic\":\"bio\"}\n",
      "with open(\"teacher.json\",\"a\") as teacherfile:\n",
      "    json.dumps([teacher1, teacher2],teacherfile)   \n"
     ],
     "language": "python",
     "metadata": {},
     "outputs": [],
     "prompt_number": 44
    },
    {
     "cell_type": "code",
     "collapsed": false,
     "input": [],
     "language": "python",
     "metadata": {},
     "outputs": [],
     "prompt_number": 50
    }
   ],
   "metadata": {}
  }
 ]
}
